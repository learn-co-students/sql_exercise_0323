{
 "cells": [
  {
   "cell_type": "markdown",
   "metadata": {},
   "source": [
    "# SQL Practices\n",
    "\n",
    "Agenda:\n",
    "- Practice with Grouping in SQLite & Pandas\n"
   ]
  },
  {
   "cell_type": "code",
   "execution_count": null,
   "metadata": {},
   "outputs": [],
   "source": [
    "import sqlite3\n",
    "import pandas as pd\n",
    "import seaborn as sns\n",
    "import numpy as np"
   ]
  },
  {
   "cell_type": "markdown",
   "metadata": {},
   "source": [
    "## Grouping\n",
    "Just like pandas, Sql support different types of grouping statements for performing aggregate functions and allow us to calculate various statistics for data.\n",
    "\n",
    "Syntax:\n",
    "`SELECT operation(*) FROM tables GROUP BY column`\n",
    "\n",
    "`df.groupby(['column(s)']).*.operations()`"
   ]
  },
  {
   "cell_type": "code",
   "execution_count": null,
   "metadata": {},
   "outputs": [],
   "source": [
    "# instantiate some data\n",
    "np.random.seed(1234)\n",
    "\n",
    "auto = sns.load_dataset('mpg')\n",
    "tips = sns.load_dataset('tips')"
   ]
  },
  {
   "cell_type": "code",
   "execution_count": null,
   "metadata": {},
   "outputs": [],
   "source": [
    "## connect to our database\n",
    "\n",
    "conn = sqlite3.connect('aggregate.db')\n",
    "c = conn.cursor()"
   ]
  },
  {
   "cell_type": "code",
   "execution_count": null,
   "metadata": {
    "scrolled": true
   },
   "outputs": [],
   "source": [
    "# insert these datasets into our db\n"
   ]
  },
  {
   "cell_type": "markdown",
   "metadata": {},
   "source": [
    "## Exercises\n",
    "\n",
    "For the following several exercises, you will be asked to create 3 queries. You will need to use _both_ SQL and Pandas to answer these questions. These questions test for your knowledge and flexibility in data wrangling. "
   ]
  },
  {
   "cell_type": "markdown",
   "metadata": {
    "scrolled": false
   },
   "source": [
    "#### Q1. For the tips df/table, get the total count of man and woman"
   ]
  },
  {
   "cell_type": "code",
   "execution_count": null,
   "metadata": {
    "scrolled": true
   },
   "outputs": [],
   "source": [
    "# in pandas \n",
    "\n",
    "### your answer here"
   ]
  },
  {
   "cell_type": "code",
   "execution_count": null,
   "metadata": {
    "scrolled": true
   },
   "outputs": [],
   "source": [
    "# other alternatives?"
   ]
  },
  {
   "cell_type": "markdown",
   "metadata": {},
   "source": [
    "Syntax: `SELECT ___ FROM ___ GROUP BY ___` "
   ]
  },
  {
   "cell_type": "code",
   "execution_count": null,
   "metadata": {
    "scrolled": true
   },
   "outputs": [],
   "source": [
    "# in sql \n",
    "\n",
    "### your code here\n",
    "query = \"\"\"\"\"\"\n",
    "c.execute(query).fetchall()"
   ]
  },
  {
   "cell_type": "markdown",
   "metadata": {},
   "source": [
    "#### Q2. Using pandas & SQL, select the average amount tipped for time"
   ]
  },
  {
   "cell_type": "code",
   "execution_count": null,
   "metadata": {
    "scrolled": true
   },
   "outputs": [],
   "source": [
    "# pandas\n",
    "\n",
    "### Your code here"
   ]
  },
  {
   "cell_type": "code",
   "execution_count": null,
   "metadata": {},
   "outputs": [],
   "source": [
    "# use SQL\n",
    "\n",
    "### your code here\n",
    "query = \"\"\"\"\"\"\n",
    "c.execute(query).fetchall()"
   ]
  },
  {
   "cell_type": "markdown",
   "metadata": {},
   "source": [
    "We can also use `GROUP BY` with certain conditions, in conjunction with filtering and ordering.\n",
    "\n",
    "You can use :\n",
    "\n",
    "`SELECT ___ FROM ___ WHERE ___ GROUP BY ___ `\n",
    "\n",
    "`SELECT ___ FROM ___ GROUP BY ___ HAVING ____ `"
   ]
  },
  {
   "cell_type": "markdown",
   "metadata": {},
   "source": [
    "#### Q3.  get the average total bills for a party larger than 2 for every size of party"
   ]
  },
  {
   "cell_type": "code",
   "execution_count": null,
   "metadata": {
    "scrolled": true
   },
   "outputs": [],
   "source": [
    "# using pandas\n",
    "\n",
    "### your code here"
   ]
  },
  {
   "cell_type": "code",
   "execution_count": null,
   "metadata": {
    "scrolled": true
   },
   "outputs": [],
   "source": [
    "# use sql to recreate this query\n",
    "\n",
    "### your code here\n",
    "query = \"\"\"\"\"\"\n",
    "c.execute(query).fetchall()"
   ]
  }
 ],
 "metadata": {
  "kernelspec": {
   "display_name": "Python 3",
   "language": "python",
   "name": "python3"
  },
  "language_info": {
   "codemirror_mode": {
    "name": "ipython",
    "version": 3
   },
   "file_extension": ".py",
   "mimetype": "text/x-python",
   "name": "python",
   "nbconvert_exporter": "python",
   "pygments_lexer": "ipython3",
   "version": "3.7.3"
  }
 },
 "nbformat": 4,
 "nbformat_minor": 2
}
